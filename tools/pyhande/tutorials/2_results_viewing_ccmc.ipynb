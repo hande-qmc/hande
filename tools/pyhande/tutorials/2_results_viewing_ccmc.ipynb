{
 "cells": [
  {
   "cell_type": "code",
   "execution_count": null,
   "metadata": {},
   "outputs": [],
   "source": [
    "# This tutorial shows how CCMC data (analysis) results can be viewed.  This applies to FCIQMC as well.\n",
    "# Here, when creating the results object, we don't specify any custom input but stick to the defaults.\n",
    "# Two simple CCSD calculations are analysed, their input differs in the time step."
   ]
  },
  {
   "cell_type": "code",
   "execution_count": null,
   "metadata": {},
   "outputs": [],
   "source": [
    "from pyhande.results_viewer.get_results import get_results"
   ]
  },
  {
   "cell_type": "code",
   "execution_count": null,
   "metadata": {},
   "outputs": [],
   "source": [
    "# Just sticking to defaults, this is a short cut method for creating the results object.\n",
    "results = get_results([\"data/0.01_ccsd.out.gz\", \"data/0.002_ccsd.out.gz\"])"
   ]
  },
  {
   "cell_type": "code",
   "execution_count": null,
   "metadata": {},
   "outputs": [],
   "source": [
    "# The summary table shows an overview of analysed results and added metadata (if any were added).\n",
    "# In the beginning, it just contains the analysed data, here by default using reblocking using pyblock [1].\n",
    "results.summary"
   ]
  },
  {
   "cell_type": "code",
   "execution_count": null,
   "metadata": {},
   "outputs": [],
   "source": [
    "# This table format might be handy for doing further manipulations on it but not very easy to compare by eye. \n",
    "# The pretty format helps.  For data that contains a standard error, this is a string, using pyblock's pretty format [1].\n",
    "results.summary_pretty"
   ]
  },
  {
   "cell_type": "code",
   "execution_count": null,
   "metadata": {},
   "outputs": [],
   "source": [
    "# Check for population control bias [2].\n",
    "results.do_reweighting()"
   ]
  },
  {
   "cell_type": "code",
   "execution_count": null,
   "metadata": {},
   "outputs": [],
   "source": [
    "# Let's add some metadata to the summary table.\n",
    "# The format is as follows: if metadata = {a: {b:c}}, then value c can be accessed as 'a:b' and gets name b.\n",
    "results.add_metadata(['qmc:shift_damping', 'qmc:tau'])\n",
    "results.summary_pretty"
   ]
  },
  {
   "cell_type": "code",
   "execution_count": null,
   "metadata": {},
   "outputs": [],
   "source": [
    "# Since some values in summary_pretty are now strings, they are not easy to manipulate and the raw summary format might\n",
    "# not be convenient when comparing only a few \"observables\", e. g. Shift and time step.  \"observables\" include metadata items here. \n",
    "# Note that all \"observables\" listed here have to be present in summary table before calling compare_obs.\n",
    "results.compare_obs(['Shift', 'tau'])"
   ]
  },
  {
   "cell_type": "code",
   "execution_count": null,
   "metadata": {},
   "outputs": [],
   "source": [
    "# We can find the shoulder.\n",
    "results.shoulder"
   ]
  },
  {
   "cell_type": "code",
   "execution_count": null,
   "metadata": {},
   "outputs": [],
   "source": [
    "# Can also add it to the summary table.\n",
    "# What do we think, higher time step, higher shoulder height?\n",
    "results.add_shoulder()\n",
    "results.summary_pretty"
   ]
  },
  {
   "cell_type": "code",
   "execution_count": null,
   "metadata": {},
   "outputs": [],
   "source": [
    "# The shoulder can also easily plotted.\n",
    "results.plot_shoulder()"
   ]
  },
  {
   "cell_type": "code",
   "execution_count": null,
   "metadata": {},
   "outputs": [],
   "source": [
    "# We can find the inefficiency [3].\n",
    "results.inefficiency"
   ]
  },
  {
   "cell_type": "code",
   "execution_count": null,
   "metadata": {},
   "outputs": [],
   "source": [
    "# Can also add it to the summary table.\n",
    "# Note that as the shoulder, the inefficiency is internally stored and only calculated the first time it is accessed.\n",
    "results.add_inefficiency()\n",
    "results.summary_pretty"
   ]
  },
  {
   "cell_type": "code",
   "execution_count": null,
   "metadata": {},
   "outputs": [],
   "source": [
    "# Since we have chosen default settings, the blocking analyser was chosen.\n",
    "# It's raw output can be viewed via the analyser attribute, e.g.\n",
    "results.analyser.opt_block\n"
   ]
  },
  {
   "cell_type": "code",
   "execution_count": null,
   "metadata": {},
   "outputs": [],
   "source": [
    "# Of course, the data and metadata as extracted can be viewed, too.  Via the extractor attribute.\n",
    "results.extractor.data"
   ]
  },
  {
   "cell_type": "code",
   "execution_count": null,
   "metadata": {},
   "outputs": [],
   "source": [
    "# After the extractor object extracted the data before it is passed to the analyser, the data was \"prepared\",\n",
    "# i.e. prepare it for analysis, especially if complex or replica tricks were used.\n",
    "# The instantaneous projected energy was then calculated for convenience (needed by hybrid analyser).\n",
    "# Since complex or replica tricks were not used here, this is the only addition.\n",
    "# Access prepared data via:\n",
    "results.preparator.data"
   ]
  },
  {
   "cell_type": "code",
   "execution_count": null,
   "metadata": {},
   "outputs": [],
   "source": [
    "# [1] - pyblock, James Spencer, http://github.com/jsspencer/pyblock\n",
    "# [2] - C.J. Umrigar et al. (1993), J. Chem. Phys. 99, 2865 and W.A. Vigor, et al. (2015), J. Chem. Phys. 142, 104101.\n",
    "# [3] - W. A. Vigor, et al. (2016), J. Chem. Phys. 144, 094110."
   ]
  }
 ],
 "metadata": {
  "kernelspec": {
   "display_name": "Python 3.6.10 64-bit ('base': conda)",
   "language": "python",
   "name": "python361064bitbaseconda4e90b1c68b1c4fd0a0f6ee41515f0642"
  },
  "language_info": {
   "codemirror_mode": {
    "name": "ipython",
    "version": 3
   },
   "file_extension": ".py",
   "mimetype": "text/x-python",
   "name": "python",
   "nbconvert_exporter": "python",
   "pygments_lexer": "ipython3",
   "version": "3.6.10-final"
  }
 },
 "nbformat": 4,
 "nbformat_minor": 4
}