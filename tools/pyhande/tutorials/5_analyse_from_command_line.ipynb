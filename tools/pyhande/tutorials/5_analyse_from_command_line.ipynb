{
 "cells": [
  {
   "cell_type": "markdown",
   "metadata": {},
   "source": [
    "This demonstration shows how default analyses can be done from the command line (e.g. when on a computing cluster)."
   ]
  },
  {
   "cell_type": "markdown",
   "metadata": {},
   "source": [
    "Analyse one calculation that is split over two output files, merged with the UUID merge strategy.  Also find the `inefficiency` (`-i`) and `shoulder` (`-sh`)."
   ]
  },
  {
   "cell_type": "code",
   "execution_count": null,
   "metadata": {},
   "outputs": [],
   "source": [
    "%run ./../../analyse_ccmc_fciqmc.py -i -sh ../tests/hande_files/long_calc_split1_ueg.out ../tests/hande_files/long_calc_split2_ueg.out"
   ]
  },
  {
   "cell_type": "markdown",
   "metadata": {},
   "source": [
    "But maybe, we don't want to merge?  Then set `-m 'no'`."
   ]
  },
  {
   "cell_type": "code",
   "execution_count": null,
   "metadata": {},
   "outputs": [],
   "source": [
    "%run ./../../analyse_ccmc_fciqmc.py -i -sh -m 'no' ../tests/hande_files/long_calc_split1_ueg.out ../tests/hande_files/long_calc_split2_ueg.out"
   ]
  },
  {
   "cell_type": "markdown",
   "metadata": {},
   "source": [
    "For an overview of the options, see:"
   ]
  },
  {
   "cell_type": "code",
   "execution_count": null,
   "metadata": {},
   "outputs": [],
   "source": [
    "%run ./../../analyse_ccmc_fciqmc.py -h"
   ]
  }
 ],
 "metadata": {
  "kernelspec": {
   "display_name": "Python 3.6.10 64-bit ('base': conda)",
   "language": "python",
   "name": "python361064bitbaseconda4e90b1c68b1c4fd0a0f6ee41515f0642"
  },
  "language_info": {
   "codemirror_mode": {
    "name": "ipython",
    "version": 3
   },
   "file_extension": ".py",
   "mimetype": "text/x-python",
   "name": "python",
   "nbconvert_exporter": "python",
   "pygments_lexer": "ipython3",
   "version": "3.6.10-final"
  }
 },
 "nbformat": 4,
 "nbformat_minor": 4
}