{
 "cells": [
  {
   "cell_type": "markdown",
   "metadata": {},
   "source": [
    "This demonstration shows how CCMC/FCIQMC calculations with complex wavefunctions and replica tricks\n",
    "can be analysed.\n",
    "For clarity, the `extractor`, `preparator` and `analyser` are defined explicity, instead of simply using `get_results`."
   ]
  },
  {
   "cell_type": "code",
   "execution_count": null,
   "metadata": {},
   "outputs": [],
   "source": [
    "from pyhande.data_preparing.hande_ccmc_fciqmc import PrepHandeCcmcFciqmc\n",
    "from pyhande.extracting.extractor import Extractor\n",
    "from pyhande.error_analysing.blocker import Blocker\n",
    "from pyhande.results_viewer.get_results import analyse_data"
   ]
  },
  {
   "cell_type": "code",
   "execution_count": null,
   "metadata": {},
   "outputs": [],
   "source": [
    "extra = Extractor() # Keep the defaults, merge using UUIDs. \n",
    "prep = PrepHandeCcmcFciqmc()\n",
    "ana = Blocker.inst_hande_ccmc_fciqmc(start_its=[20000, 20000]) # Keep the defaults, find starting iterations automatically, using 'blocking' finder."
   ]
  },
  {
   "cell_type": "markdown",
   "metadata": {},
   "source": [
    "Note that this is the original default CCMC/FCIQMC HANDE columns/key mapping in `preparator`. \n",
    "It is a private variable really, so user access is not encouraged, but shown here for clarity."
   ]
  },
  {
   "cell_type": "code",
   "execution_count": null,
   "metadata": {},
   "outputs": [],
   "source": [
    "prep._observables_init"
   ]
  },
  {
   "cell_type": "markdown",
   "metadata": {},
   "source": [
    "Now we execute our `executor`, `preparator` and `analyser`. \n",
    "Note that while we have three output files, we only have two calculations, one was restarted.\n",
    "Since we are merging using UUIDs, the order we are passing the output file names in does not matter.\n",
    "With `legacy` merge type, this would not work.  Order matters there.\n",
    "Here, the first and third output file's data will be merged."
   ]
  },
  {
   "cell_type": "code",
   "execution_count": null,
   "metadata": {},
   "outputs": [],
   "source": [
    "results = analyse_data([\"data/replica_complex_fciqmc_init_pop_10.out.xz\", \"data/replica_complex_fciqmc_init_pop_100.out.xz\", \"data/replica_complex_fciqmc_init_pop_10_part2.out.xz\"], extra, prep, ana)"
   ]
  },
  {
   "cell_type": "markdown",
   "metadata": {},
   "source": [
    "In this analysis model, all replicas are analysed individually.\n",
    "Complex data is dealt with as follows:\n",
    "The mapping of `ref_key` (the reference population N_0) and `sum_key` (sum_j H_0j N_j) are adapted, they are now the (negative) magnitudes of the complex equivalents.\n",
    "The ratio of the means of those magnitudes is then the mean projected energy (credits to Charlie Scott for first implementation, see his note in data_preparing/hande_ccmc_fciqmc.py.)."
   ]
  },
  {
   "cell_type": "code",
   "execution_count": null,
   "metadata": {},
   "outputs": [],
   "source": [
    "prep.observables"
   ]
  },
  {
   "cell_type": "markdown",
   "metadata": {},
   "source": [
    "The data has additional columns with this data:"
   ]
  },
  {
   "cell_type": "code",
   "execution_count": null,
   "metadata": {},
   "outputs": [],
   "source": [
    "prep.data"
   ]
  },
  {
   "cell_type": "markdown",
   "metadata": {},
   "source": [
    "Not everything was analysed long enough to be analysed."
   ]
  },
  {
   "cell_type": "code",
   "execution_count": null,
   "metadata": {},
   "outputs": [],
   "source": [
    "results.summary_pretty"
   ]
  },
  {
   "cell_type": "markdown",
   "metadata": {},
   "source": [
    "This was unsuccessful:"
   ]
  },
  {
   "cell_type": "code",
   "execution_count": null,
   "metadata": {},
   "outputs": [],
   "source": [
    "results.analyser.no_opt_block"
   ]
  },
  {
   "cell_type": "markdown",
   "metadata": {},
   "source": [
    "Lower initial population, lower shoulder?"
   ]
  },
  {
   "cell_type": "code",
   "execution_count": null,
   "metadata": {},
   "outputs": [],
   "source": [
    "results.plot_shoulder()"
   ]
  },
  {
   "cell_type": "markdown",
   "metadata": {},
   "source": [
    "There seems to be a trend."
   ]
  },
  {
   "cell_type": "code",
   "execution_count": null,
   "metadata": {},
   "outputs": [],
   "source": [
    "results.add_shoulder()\n",
    "results.add_metadata(['qmc:D0_population'])\n",
    "results.compare_obs(['shoulder height', 'D0_population'])"
   ]
  }
 ],
 "metadata": {
  "kernelspec": {
   "display_name": "Python 3.6.10 64-bit ('base': conda)",
   "language": "python",
   "name": "python361064bitbaseconda4e90b1c68b1c4fd0a0f6ee41515f0642"
  },
  "language_info": {
   "codemirror_mode": {
    "name": "ipython",
    "version": 3
   },
   "file_extension": ".py",
   "mimetype": "text/x-python",
   "name": "python",
   "nbconvert_exporter": "python",
   "pygments_lexer": "ipython3",
   "version": "3.6.10-final"
  }
 },
 "nbformat": 4,
 "nbformat_minor": 4
}