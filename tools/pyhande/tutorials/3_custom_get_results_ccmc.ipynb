{
 "cells": [
  {
   "cell_type": "markdown",
   "metadata": {},
   "source": [
    "This demonstration shows how CCMC data (analysis) results can be analysed in a more customised way. \n",
    "This applies to FCIQMC as well."
   ]
  },
  {
   "cell_type": "code",
   "execution_count": null,
   "metadata": {},
   "outputs": [],
   "source": [
    "from pyhande.data_preparing.hande_ccmc_fciqmc import PrepHandeCcmcFciqmc\n",
    "from pyhande.extracting.extractor import Extractor\n",
    "from pyhande.error_analysing.blocker import Blocker\n",
    "from pyhande.error_analysing.hybrid_ana import HybridAna\n",
    "from pyhande.results_viewer.get_results import get_results, analyse_data"
   ]
  },
  {
   "cell_type": "markdown",
   "metadata": {},
   "source": [
    "# Part A\n",
    "\n",
    "For now, still using the default, quick `get_results` function but this time specify `merge_type` to not merging\n",
    "(no effect here as calculations are independent, the default is merge using UUIDs btw),\n",
    "the `analyser` to hybrid [1] (not blocking as by default) and while we don't specify analysis start MC iterations,\n",
    "we specify that the MSER find starting iteration function should be used to automatically find them\n",
    "(the default is 'blocking' for the blocking find starting iteration function)."
   ]
  },
  {
   "cell_type": "code",
   "execution_count": null,
   "metadata": {},
   "outputs": [],
   "source": [
    "results = get_results([\"data/0.01_ccsd.out.gz\", \"data/0.002_ccsd.out.gz\"], merge_type='no', analyser='hybrid', start_its='mser')"
   ]
  },
  {
   "cell_type": "markdown",
   "metadata": {},
   "source": [
    "The `summary` table shows the analysed data by the `analyser`.\n",
    "The hybrid `analyser` analyses the instantaneous projected energy (as prepared by the `preparator` object)."
   ]
  },
  {
   "cell_type": "code",
   "execution_count": null,
   "metadata": {},
   "outputs": [],
   "source": [
    "results.summary"
   ]
  },
  {
   "cell_type": "markdown",
   "metadata": {},
   "source": [
    "The hybrid `analyser`'s output can be viewed."
   ]
  },
  {
   "cell_type": "code",
   "execution_count": null,
   "metadata": {},
   "outputs": [],
   "source": [
    "results.analyser.opt_block"
   ]
  },
  {
   "cell_type": "code",
   "execution_count": null,
   "metadata": {},
   "outputs": [],
   "source": [
    "print(results.analyser.start_its) # Used starting iterations, found using MSER find starting iteration function.\n",
    "print(results.analyser.end_its) # Used end iterations, the last iteration by default."
   ]
  },
  {
   "cell_type": "markdown",
   "metadata": {},
   "source": [
    "# Part B\n",
    "\n",
    "Now, we don't use `get_results` to get the `results` object but define the `extractor`, `preparator` and `analyser` objects ourselves.\n",
    "Even though it doesn't have an effect here as there is no calculation to merge, we state that we want to merge using\n",
    "the 'legacy' way, i.e. don't use UUID for merging but simply determine whether iterations from one output file to the next\n",
    "(order matters here) are consecutive. If shift is already varying across that continuation, don't merge if 'shift_damping'\n",
    "differs from one output file to the next ('md_shift' specifies that this restriction only applies when shift is already varying,\n",
    "otherwise use 'md_always' for this restriction to always hold).\n",
    "Since no merge is possibly, these options are ignored and just shown here for demonstration purposes."
   ]
  },
  {
   "cell_type": "code",
   "execution_count": null,
   "metadata": {},
   "outputs": [],
   "source": [
    "extra = Extractor(merge={'type': 'legacy', 'md_shift': ['qmc:shift_damping'], 'shift_key': 'Shift'})"
   ]
  },
  {
   "cell_type": "markdown",
   "metadata": {},
   "source": [
    "Define `preparator` object.  It contains the hard coded mapping of column name meaning to column name, i.e. 'ref_key' : 'N_0,\n",
    "for the case of HANDE CCMC/FCIQMC.  If you use a different package, you'll need to create your own `preparator` class."
   ]
  },
  {
   "cell_type": "code",
   "execution_count": null,
   "metadata": {},
   "outputs": [],
   "source": [
    "prep = PrepHandeCcmcFciqmc()"
   ]
  },
  {
   "cell_type": "markdown",
   "metadata": {},
   "source": [
    "Define `analyser`.  Use class method `inst_hande_ccmc_fciqmc` to pre-set what should be analysed (inst. projected energy), name\n",
    "of iteration key ('iterations'), etc.\n",
    "Use 'blocking' start iteration finder and specify that a graph should be shown by the start iteration finder."
   ]
  },
  {
   "cell_type": "code",
   "execution_count": null,
   "metadata": {},
   "outputs": [],
   "source": [
    "ana = HybridAna.inst_hande_ccmc_fciqmc(start_its = 'blocking', find_start_kw_args={'show_graph': True})"
   ]
  },
  {
   "cell_type": "markdown",
   "metadata": {},
   "source": [
    "Now, we can execute those three objects.  'analyse_data' is a handy helper to call their `.exe()` methods.\n",
    "For each calculation, a graph is shown by the find starting iteration method."
   ]
  },
  {
   "cell_type": "code",
   "execution_count": null,
   "metadata": {},
   "outputs": [],
   "source": [
    "results2 = analyse_data([\"data/0.01_ccsd.out.gz\", \"data/0.002_ccsd.out.gz\"], extra, prep, ana)"
   ]
  },
  {
   "cell_type": "markdown",
   "metadata": {},
   "source": [
    "Have used different starting iteration finder, so these will be different."
   ]
  },
  {
   "cell_type": "code",
   "execution_count": null,
   "metadata": {},
   "outputs": [],
   "source": [
    "results2.analyser.start_its"
   ]
  },
  {
   "cell_type": "markdown",
   "metadata": {},
   "source": [
    "But results are comparable. "
   ]
  },
  {
   "cell_type": "code",
   "execution_count": null,
   "metadata": {},
   "outputs": [],
   "source": [
    "results2.summary_pretty"
   ]
  },
  {
   "cell_type": "markdown",
   "metadata": {},
   "source": [
    "But what if we want to analyse the shift instead of the instantaneous projected energy with hybrid analysis?\n",
    "-> BEWARE this is untested. Only used for illustration here!\n",
    "Don't use class method for `analyser` instantiation anymore.\n",
    "Keep default settings (find start iterations using 'mser' etc).\n",
    "Note that when doing blocking, not hybrid, the order is a bit different, the columns to be analysed are 'cols'\n",
    "for blocking and 'hybrid_col' for hybrid analysis. You might need to define both for a given `analyser` if you\n",
    "are using the starting iteration function of the other type ('blocking' with start_its='mser' or 'hybrid' with\n",
    "start_its='blocking').  Consult the docstring."
   ]
  },
  {
   "cell_type": "code",
   "execution_count": null,
   "metadata": {},
   "outputs": [],
   "source": [
    "ana2 = HybridAna('iterations', 'Shift', 'replica id')"
   ]
  },
  {
   "cell_type": "code",
   "execution_count": null,
   "metadata": {},
   "outputs": [],
   "source": [
    "results3 = analyse_data([\"data/0.01_ccsd.out.gz\", \"data/0.002_ccsd.out.gz\"], extra, prep, ana2)"
   ]
  },
  {
   "cell_type": "code",
   "execution_count": null,
   "metadata": {},
   "outputs": [],
   "source": [
    "results3.summary_pretty"
   ]
  },
  {
   "cell_type": "markdown",
   "metadata": {},
   "source": [
    "[1] - Ichibha, T., Hongo, K., Maezono, R., Thom, A. J. W., 2019 [arXiv:1904.09934 [physics.comp-ph]]."
   ]
  }
 ],
 "metadata": {
  "kernelspec": {
   "display_name": "Python 3.6.10",
   "language": "python",
   "name": "python3610"
  },
  "language_info": {
   "codemirror_mode": {
    "name": "ipython",
    "version": 3
   },
   "file_extension": ".py",
   "mimetype": "text/x-python",
   "name": "python",
   "nbconvert_exporter": "python",
   "pygments_lexer": "ipython3",
   "version": "3.6.10-final"
  }
 },
 "nbformat": 4,
 "nbformat_minor": 4
}
