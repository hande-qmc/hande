{
 "cells": [
  {
   "cell_type": "markdown",
   "metadata": {},
   "source": [
    "This shows how FCI [1] or stochastic estimation of the Hilbert space size [2] calculations can be analysed.\n",
    "At the moment, this how all calculations except for CCMC [3] and FCIQMC's [4] results can be viewed.\n",
    "Note that the results class for CCMC and FCIQMC which supports further analysis, inherits from this base class.\n",
    "The methods shown here can be used for all calculation types.\n",
    "\n",
    "See pandas [5] website (https://pandas.pydata.org/) on how to manipulate pandas dataframes, etc."
   ]
  },
  {
   "cell_type": "markdown",
   "metadata": {},
   "source": [
    "`get_results` allows for common options (e.g. how to merge, start iterations for analysis in the case for CCMC/FCIQMC calculations).\n",
    "For FCI, Hilbert calculations, the default setting are fine as no further analysis past extraction is done, so any settings would not apply."
   ]
  },
  {
   "cell_type": "code",
   "execution_count": null,
   "metadata": {},
   "outputs": [],
   "source": [
    "from pyhande.results_viewer.get_results import get_results"
   ]
  },
  {
   "cell_type": "markdown",
   "metadata": {},
   "source": [
    "Only the names of the output files are given."
   ]
  },
  {
   "cell_type": "code",
   "execution_count": null,
   "metadata": {},
   "outputs": [],
   "source": [
    "results = get_results([\"../tests/hande_files/fci_ueg.out\", \"../tests/hande_files/hilbert_ueg.out\"])"
   ]
  },
  {
   "cell_type": "markdown",
   "metadata": {},
   "source": [
    "How to view the `data`.  A list of length equal to the number of calculations.\n",
    "The extractor is the object that extracts the (meta)data and in the case of FCIQMC and CCMC can merge it as well,\n",
    "so this attribute of `results`, `extractor`, contains the results of the execution of `extractor`, not altered past the `extractor` object."
   ]
  },
  {
   "cell_type": "code",
   "execution_count": null,
   "metadata": {},
   "outputs": [],
   "source": [
    "results.extractor.data"
   ]
  },
  {
   "cell_type": "markdown",
   "metadata": {},
   "source": [
    "How to view the `metadata`.  A list over the number of calculations, each a list over number of output files making up a calculation\n",
    "(e.g. when a calculation is spread over two output files, the inner list would be of length two).\n",
    "Merging is only done for CCMC or FCIQMC, so here the inner list is always of length one and just there for compatibility reasons."
   ]
  },
  {
   "cell_type": "code",
   "execution_count": null,
   "metadata": {},
   "outputs": [],
   "source": [
    "results.extractor.metadata"
   ]
  },
  {
   "cell_type": "markdown",
   "metadata": {},
   "source": [
    "How to access items of `metadata` in a dataframe format.  If `metadata` = {a: {b: c}}, then value c is accessed as 'a:b' and gets name b."
   ]
  },
  {
   "cell_type": "code",
   "execution_count": null,
   "metadata": {},
   "outputs": [],
   "source": [
    "results.get_metadata(['system:nel'])"
   ]
  },
  {
   "cell_type": "markdown",
   "metadata": {},
   "source": [
    "Results can be accumulated here.  Contains `opt_block` in the case of CCMC/FCIQMC.  Empty here, as nothing has been added yet."
   ]
  },
  {
   "cell_type": "code",
   "execution_count": null,
   "metadata": {},
   "outputs": [],
   "source": [
    "results.summary"
   ]
  },
  {
   "cell_type": "markdown",
   "metadata": {},
   "source": [
    "Add calculation type and number of electrons to `summary`."
   ]
  },
  {
   "cell_type": "code",
   "execution_count": null,
   "metadata": {},
   "outputs": [],
   "source": [
    "results.add_metadata(['calc_type', 'system:nel'])\n",
    "results.summary"
   ]
  },
  {
   "cell_type": "markdown",
   "metadata": {},
   "source": [
    "(See main HANDE documentation and HANDE bibliography for more details and references.)\n",
    "\n",
    "[1] - P. J. Knowles, N. C. Handy (1989), Comput. Phys. Comm. 54, 75.\n",
    "\n",
    "[2] - G. H. Booth (2010), PhD thesis, University of Cambridge.\n",
    "\n",
    "[3] - A. J. W. Thom (2010), Phys. Rev. Lett. 105, 236004.\n",
    "\n",
    "[4] - G. H. Booth et al. (2009), J. Chem. Phys. 131, 054106; Cleland, et al. (2010), J. Chem. Phys. 132, 041103.\n",
    "\n",
    "[5] - The pandas development team (2020), 10.5281/zenodo.3509134; W. McKinney (2010), \"Data Structures for Statistical Computing in Python\" in S. van der Walt and J. Millman (Ed.), \"Proceedings of the 9th Python in Science Conference\", pp. 56."
   ]
  }
 ],
 "metadata": {
  "kernelspec": {
   "display_name": "Python 3.6.10",
   "language": "python",
   "name": "python3610"
  },
  "language_info": {
   "codemirror_mode": {
    "name": "ipython",
    "version": 3
   },
   "file_extension": ".py",
   "mimetype": "text/x-python",
   "name": "python",
   "nbconvert_exporter": "python",
   "pygments_lexer": "ipython3",
   "version": "3.6.10-final"
  }
 },
 "nbformat": 4,
 "nbformat_minor": 4
}