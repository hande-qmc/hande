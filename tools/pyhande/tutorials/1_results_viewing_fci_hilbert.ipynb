{
 "cells": [
  {
   "cell_type": "code",
   "execution_count": null,
   "metadata": {},
   "outputs": [],
   "source": [
    "# This shows how FCI or Hilbert calculations can be analysed.\n",
    "# At the moment, this how all calculations except for CCMC and FCIQMC's results can be viewed.\n",
    "# Note that the results class for CCMC and FCIQMC which supports further analysis, inherits from this base class.\n",
    "# The methods shown here can be used for all calculation types."
   ]
  },
  {
   "cell_type": "code",
   "execution_count": null,
   "metadata": {},
   "outputs": [],
   "source": [
    "# `get_results` allows for common options (e.g. how to merge, start iterations for analysis in the case for CCMC/FCIQMC calculations).\n",
    "# For FCI, Hilbert calculations, the default setting are fine as no further analysis past extraction is done, so any settings would not apply.\n",
    "from pyhande.results_viewer.get_results import get_results"
   ]
  },
  {
   "cell_type": "code",
   "execution_count": null,
   "metadata": {},
   "outputs": [],
   "source": [
    "# Only the names of the output files are given.\n",
    "results = get_results([\"../tests/hande_files/fci_ueg.out\", \"../tests/hande_files/hilbert_ueg.out\"])"
   ]
  },
  {
   "cell_type": "code",
   "execution_count": null,
   "metadata": {},
   "outputs": [],
   "source": [
    "# How to view the data.  A list of length equal to the number of calculations.\n",
    "# The extractor is the object that extracts the (meta)data and in the case of FCIQMC and CCMC can merge it as well,\n",
    "# so this attribute of results, extractor, contains the results of the execution of extractor, not altered past the extractor object.\n",
    "results.extractor.data"
   ]
  },
  {
   "cell_type": "code",
   "execution_count": null,
   "metadata": {},
   "outputs": [],
   "source": [
    "# How to view the metadata.  A list over the number of calculations, each a list over number of output files making up a calculation\n",
    "# (e.g. when a calculation is spread over two output files, the inner list would be of length two).\n",
    "# Merging is only done for CCMC or FCIQMC, so here the inner list is always of length one and just there for compatibility reasons.\n",
    "results.extractor.metadata"
   ]
  },
  {
   "cell_type": "code",
   "execution_count": null,
   "metadata": {},
   "outputs": [],
   "source": [
    "# How to access items of metadata in a dataframe format.  If metadata = {a: {b: c}}, then value c is accessed as 'a:b' and gets name b.\n",
    "results.get_metadata(['system:nel'])"
   ]
  },
  {
   "cell_type": "code",
   "execution_count": null,
   "metadata": {},
   "outputs": [],
   "source": [
    "# Results can be accumulated here.  Contains \"opt_block\" in the case of CCMC/FCIQMC.  Empty here, as nothing has been added yet.\n",
    "results.summary"
   ]
  },
  {
   "cell_type": "code",
   "execution_count": null,
   "metadata": {},
   "outputs": [],
   "source": [
    "# Add calculation type and number of electrons to summary.\n",
    "results.add_metadata(['calc_type', 'system:nel'])\n",
    "results.summary"
   ]
  }
 ],
 "metadata": {
  "kernelspec": {
   "display_name": "Python 3.6.10 64-bit ('base': conda)",
   "language": "python",
   "name": "python361064bitbaseconda4e90b1c68b1c4fd0a0f6ee41515f0642"
  },
  "language_info": {
   "codemirror_mode": {
    "name": "ipython",
    "version": 3
   },
   "file_extension": ".py",
   "mimetype": "text/x-python",
   "name": "python",
   "nbconvert_exporter": "python",
   "pygments_lexer": "ipython3",
   "version": "3.6.10-final"
  }
 },
 "nbformat": 4,
 "nbformat_minor": 4
}