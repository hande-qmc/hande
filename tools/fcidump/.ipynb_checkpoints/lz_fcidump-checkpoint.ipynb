{
 "cells": [
  {
   "cell_type": "code",
   "execution_count": 1,
   "id": "a4d84fee",
   "metadata": {},
   "outputs": [],
   "source": [
    "import numpy as np\n",
    "import f90nml"
   ]
  },
  {
   "cell_type": "code",
   "execution_count": 13,
   "id": "f5b7bde2",
   "metadata": {},
   "outputs": [],
   "source": [
    "nml = f90nml.read('old.FCIDUMP')\n",
    "norb = int(nml['fci']['norb'])\n",
    "nelec = int(nml['fci']['nelec'])\n",
    "orbsym = np.array(nml['fci']['orbsym'],dtype='int')\n",
    "# Bring it in line with Psi4\n",
    "#orbsym += 1"
   ]
  },
  {
   "cell_type": "code",
   "execution_count": null,
   "id": "63b23fd2",
   "metadata": {},
   "outputs": [],
   "source": []
  },
  {
   "cell_type": "code",
   "execution_count": 6,
   "id": "6a3de6da",
   "metadata": {},
   "outputs": [],
   "source": [
    "with open('FCIDUMP.C2.cc-pvdz-1.2A', 'r') as f:\n",
    "    # Read the namelist first\n",
    "    contents = [line.strip() for line in f.readlines()]\n",
    "    for line in contents:\n",
    "        if 'NORB' in line:\n",
    "            norb = line.split('=')"
   ]
  },
  {
   "cell_type": "code",
   "execution_count": null,
   "id": "a6f353be",
   "metadata": {},
   "outputs": [],
   "source": []
  }
 ],
 "metadata": {
  "kernelspec": {
   "display_name": "Python 3",
   "language": "python",
   "name": "python3"
  },
  "language_info": {
   "codemirror_mode": {
    "name": "ipython",
    "version": 3
   },
   "file_extension": ".py",
   "mimetype": "text/x-python",
   "name": "python",
   "nbconvert_exporter": "python",
   "pygments_lexer": "ipython3",
   "version": "3.8.8"
  }
 },
 "nbformat": 4,
 "nbformat_minor": 5
}
